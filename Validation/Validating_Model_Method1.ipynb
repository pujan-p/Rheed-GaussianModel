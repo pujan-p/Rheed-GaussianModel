{
 "cells": [
  {
   "cell_type": "code",
   "execution_count": 1,
   "metadata": {},
   "outputs": [],
   "source": [
    "# Environment Variables: \n",
    "\n",
    "YES = 1\n",
    "NO = 0\n",
    "\n",
    "DATA_DIR = '/home/pujan/Research/RHEED/Data/' # Change to your DATA PATH"
   ]
  },
  {
   "cell_type": "code",
   "execution_count": null,
   "metadata": {},
   "outputs": [],
   "source": [
    "# Imports\n",
    "import numpy as np\n",
    "import matplotlib.pyplot as plt\n",
    "import h5py\n",
    "from tqdm import tqdm\n",
    "import tensorflow as tf\n",
    "from qkeras import *"
   ]
  },
  {
   "cell_type": "code",
   "execution_count": 3,
   "metadata": {},
   "outputs": [
    {
     "name": "stdout",
     "output_type": "stream",
     "text": [
      "[Raw Images Shape]: (150985, 48, 48, 1)\n"
     ]
    }
   ],
   "source": [
    "# Read H5 Data File:\n",
    "RHEED_data_file = DATA_DIR + 'RHEED_4848_test6.h5'\n",
    "spot = 'spot_2'\n",
    "\n",
    "h5 = h5py.File(RHEED_data_file, 'r')\n",
    "\n",
    "raw_data = []\n",
    "for growth in h5.keys():\n",
    "    raw_data.extend(h5[growth][spot])\n",
    "raw_data = np.array(raw_data).astype(np.float32)\n",
    "raw_data = np.expand_dims(raw_data, axis=-1).astype(np.float32) # if (batch_size, height, width, channels)\n",
    "\n",
    "print(f'[Raw Images Shape]: {raw_data.shape}')"
   ]
  },
  {
   "cell_type": "code",
   "execution_count": 4,
   "metadata": {},
   "outputs": [
    {
     "name": "stderr",
     "output_type": "stream",
     "text": [
      "100%|██████████| 150985/150985 [00:02<00:00, 74397.15it/s]\n"
     ]
    },
    {
     "name": "stdout",
     "output_type": "stream",
     "text": [
      "[Normalized Images Shape]: (150985, 48, 48, 1)\n"
     ]
    }
   ],
   "source": [
    "# Normalize w/ image max\n",
    "\n",
    "normalized_images = []\n",
    "normalized_factor = []\n",
    "for image in tqdm(raw_data):\n",
    "    normalized_images.append(image / (np.max(image) + 1))\n",
    "    normalized_factor.append(np.max(image))\n",
    "normalized_images = np.array(normalized_images).astype(np.float32)\n",
    "normalized_factor = np.array(normalized_factor).astype(np.float32)\n",
    "\n",
    "print(f'[Normalized Images Shape]: {normalized_images.shape}')"
   ]
  },
  {
   "cell_type": "code",
   "execution_count": 5,
   "metadata": {},
   "outputs": [
    {
     "name": "stderr",
     "output_type": "stream",
     "text": [
      "100%|██████████| 150985/150985 [00:01<00:00, 147631.71it/s]\n"
     ]
    },
    {
     "name": "stdout",
     "output_type": "stream",
     "text": [
      "[Normalized Images Shape]: (150985, 48, 48, 1)\n"
     ]
    }
   ],
   "source": [
    "# Clamp to 8 bits fractional\n",
    "normalized_images_0I_8F = []\n",
    "for image in tqdm(normalized_images):\n",
    "    normalized_images_0I_8F.append(np.round(image * 256) / 256)\n",
    "normalized_images_0I_8F = np.array(normalized_images_0I_8F).astype(np.float32)\n",
    "\n",
    "print(f'[Normalized Images Shape]: {normalized_images_0I_8F.shape}')"
   ]
  },
  {
   "cell_type": "code",
   "execution_count": 6,
   "metadata": {},
   "outputs": [
    {
     "name": "stdout",
     "output_type": "stream",
     "text": [
      "[Orig Estimated Labels Shape]: (150985, 5)\n"
     ]
    }
   ],
   "source": [
    "# Load Fitted Labels: \n",
    "RHEED_label_file = DATA_DIR + 'Estimated_Labels.npy'\n",
    "\n",
    "estimated_labels = np.load(RHEED_label_file)\n",
    "\n",
    "# Dirty Clipping, Need to spend some time on this\n",
    "# estimated_labels[:, 0] = np.clip(estimated_labels[:, 0], 0, 48)\n",
    "# estimated_labels[:, 1] = np.clip(estimated_labels[:, 1], 0, 48)\n",
    "# estimated_labels[:, 2] = np.clip(estimated_labels[:, 2], 0, 24)\n",
    "# estimated_labels[:, 3] = np.clip(estimated_labels[:, 3], 0, 24)\n",
    "# estimated_labels[:, 4] = np.clip(estimated_labels[:, 4], -np.pi/2, np.pi/2)\n",
    "\n",
    "print(f'[Orig Estimated Labels Shape]: {estimated_labels.shape}')"
   ]
  },
  {
   "cell_type": "code",
   "execution_count": 7,
   "metadata": {},
   "outputs": [],
   "source": [
    "# Gaussian Functions: (TENSORFLOW)\n",
    "\n",
    "# mean_x, mean_y, cov_x, cov_y, theta\n",
    "def generate_guassian(batch, image_shape):\n",
    "    batch_size = batch.shape[0]\n",
    "    batch = tf.expand_dims(tf.expand_dims(batch, axis=-1), axis=-1)\n",
    "    x0, y0, sigma_x, sigma_y, theta = tf.cast(tf.unstack(batch, axis=-3), tf.float32)\n",
    "    \n",
    "    x_range = tf.range(start=0, limit=image_shape[0], delta=1)\n",
    "    y_range = tf.range(start=0, limit=image_shape[1], delta=1)\n",
    "    X_coord, Y_coord = tf.meshgrid(x_range, y_range, indexing='xy')\n",
    "    X_coord = tf.cast(tf.expand_dims(X_coord, axis=0), tf.float32)\n",
    "    Y_coord = tf.cast(tf.expand_dims(Y_coord, axis=0), tf.float32)\n",
    "    \n",
    "    X_coord = tf.tile(X_coord, [batch_size, 1, 1])\n",
    "    Y_coord = tf.tile(Y_coord, [batch_size, 1, 1])\n",
    "    \n",
    "    a = tf.math.pow(tf.math.cos(theta), 2) / (2 * tf.math.pow(sigma_x, 2)) + tf.math.pow(tf.math.sin(theta), 2) / (2 * tf.math.pow(sigma_y, 2))\n",
    "    b = -1 * tf.math.sin(theta) * tf.math.cos(theta) / (2 * tf.math.pow(sigma_x, 2)) + tf.math.sin(theta) * tf.math.cos(theta) / (2 * tf.math.pow(sigma_y, 2))\n",
    "    c = tf.math.pow(tf.math.sin(theta), 2) / (2 * tf.math.pow(sigma_x, 2)) + tf.math.pow(tf.math.cos(theta), 2) / (2 * tf.math.pow(sigma_y, 2))\n",
    "\n",
    "    img = tf.exp(-1 * (a * (X_coord - x0) ** 2 + 2 * b * (X_coord - x0) * (Y_coord - y0) + c * (Y_coord - y0) ** 2))\n",
    "\n",
    "    return tf.expand_dims(img, axis=-1) # if (batch_size, height, width, channels)\n",
    "    return tf.expand_dims(img, axis=1)  # if (batch_size, channels, height, width)\n",
    "\n",
    "def custom_weighted_mse_loss(I, J, n):\n",
    "  W = tf.pow(I, n)\n",
    "\n",
    "  squared_diffs = tf.pow(I - J, 2)\n",
    "\n",
    "  weighted_squared_diffs = W * squared_diffs\n",
    "\n",
    "  loss = tf.reduce_mean(weighted_squared_diffs)\n",
    "\n",
    "  return loss"
   ]
  },
  {
   "cell_type": "code",
   "execution_count": 35,
   "metadata": {},
   "outputs": [
    {
     "name": "stderr",
     "output_type": "stream",
     "text": [
      "/home/pujan/miniconda3/envs/RHEED/lib/python3.10/site-packages/keras/src/constraints.py:365: UserWarning: The `keras.constraints.serialize()` API should only be used for objects of type `keras.constraints.Constraint`. Found an instance of type <class 'qkeras.quantizers.quantized_bits'>, which may lead to improper serialization.\n",
      "  warnings.warn(\n",
      "WARNING:absl:Skipping variable loading for optimizer 'Adam', because it has 29 variables whereas the saved optimizer has 1 variables. \n"
     ]
    }
   ],
   "source": [
    "Model_file = DATA_DIR +'Models/[8]Gaussian_2I_6F.keras'\n",
    "with tf.keras.utils.custom_object_scope({'custom_weighted_mse_loss': custom_weighted_mse_loss,\n",
    "                                         'QConv2DBatchnorm': QConv2DBatchnorm,\n",
    "                                         'QActivation': QActivation,\n",
    "                                         'QDense': QDense\n",
    "                                         }):\n",
    "        model = tf.keras.models.load_model(Model_file)"
   ]
  },
  {
   "cell_type": "code",
   "execution_count": 36,
   "metadata": {},
   "outputs": [
    {
     "name": "stdout",
     "output_type": "stream",
     "text": [
      "313/313 [==============================] - 13s 36ms/step\n"
     ]
    }
   ],
   "source": [
    "images_to_predict = 10000\n",
    "scaling_arr = np.array([48.0, 48.0, 24.0, 24.0, np.pi/2]).astype(np.float32)\n",
    "\n",
    "predicted_params = model.predict(normalized_images_0I_8F[: images_to_predict]) * scaling_arr\n",
    "reconstructed_images = generate_guassian(predicted_params, (48,48))"
   ]
  },
  {
   "cell_type": "code",
   "execution_count": 39,
   "metadata": {},
   "outputs": [
    {
     "data": {
      "text/plain": [
       "<matplotlib.image.AxesImage at 0x7f1668775d50>"
      ]
     },
     "execution_count": 39,
     "metadata": {},
     "output_type": "execute_result"
    },
    {
     "data": {
      "image/png": "[encoded data removed]",
      "text/plain": [
       "<Figure size 640x480 with 2 Axes>"
      ]
     },
     "metadata": {},
     "output_type": "display_data"
    }
   ],
   "source": [
    "# View (MSE / MAE is not great because fitting is not great)\n",
    "index = np.random.randint(low=0, high=images_to_predict)\n",
    "\n",
    "plt.subplot(1, 2, 1)\n",
    "plt.imshow(np.squeeze(normalized_images_0I_8F[index]))\n",
    "\n",
    "plt.subplot(1, 2, 2)\n",
    "plt.imshow(np.squeeze(reconstructed_images[index]))\n"
   ]
  }
 ],
 "metadata": {
  "kernelspec": {
   "display_name": "RHEED",
   "language": "python",
   "name": "python3"
  },
  "language_info": {
   "codemirror_mode": {
    "name": "ipython",
    "version": 3
   },
   "file_extension": ".py",
   "mimetype": "text/x-python",
   "name": "python",
   "nbconvert_exporter": "python",
   "pygments_lexer": "ipython3",
   "version": "3.10.13"
  }
 },
 "nbformat": 4,
 "nbformat_minor": 2
}
