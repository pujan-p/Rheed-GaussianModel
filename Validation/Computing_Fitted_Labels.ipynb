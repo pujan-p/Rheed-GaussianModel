{
 "cells": [
  {
   "cell_type": "code",
   "execution_count": 1,
   "metadata": {},
   "outputs": [],
   "source": [
    "# Environment Variables: \n",
    "\n",
    "YES = 1\n",
    "NO = 0\n",
    "\n",
    "DATA_DIR = '/home/pujan/Research/RHEED/Data/' # Change to your DATA PATH"
   ]
  },
  {
   "cell_type": "code",
   "execution_count": 2,
   "metadata": {},
   "outputs": [],
   "source": [
    "# Imports for Training\n",
    "\n",
    "import os\n",
    "import numpy as np\n",
    "import matplotlib.pyplot as plt\n",
    "import h5py\n",
    "from scipy.optimize import curve_fit\n",
    "from multiprocessing import Pool\n",
    "from sklearn.preprocessing import StandardScaler\n",
    "from tqdm import tqdm\n",
    "\n",
    "%matplotlib inline"
   ]
  },
  {
   "cell_type": "code",
   "execution_count": 3,
   "metadata": {},
   "outputs": [
    {
     "name": "stdout",
     "output_type": "stream",
     "text": [
      "[Raw Images Shape]: (150985, 48, 48, 1)\n"
     ]
    }
   ],
   "source": [
    "# Read H5 Data File:\n",
    "\n",
    "RHEED_data_file = DATA_DIR + 'RHEED_4848_test6.h5'\n",
    "spot = 'spot_2'\n",
    "h5 = h5py.File(RHEED_data_file, 'r')\n",
    "\n",
    "raw_data = []\n",
    "for growth in h5.keys():\n",
    "    raw_data.extend(h5[growth][spot])\n",
    "raw_data = np.array(raw_data).astype(np.float32)\n",
    "raw_data = np.expand_dims(raw_data, axis=-1).astype(np.float32) # if (batch_size, height, width, channels)\n",
    "\n",
    "print(f'[Raw Images Shape]: {raw_data.shape}')"
   ]
  },
  {
   "cell_type": "code",
   "execution_count": 4,
   "metadata": {},
   "outputs": [
    {
     "name": "stderr",
     "output_type": "stream",
     "text": [
      "100%|██████████| 150985/150985 [00:01<00:00, 110845.19it/s]\n"
     ]
    },
    {
     "name": "stdout",
     "output_type": "stream",
     "text": [
      "[Normalized Images Shape]: (150985, 48, 48, 1)\n"
     ]
    }
   ],
   "source": [
    "# Normalize w/ image max\n",
    "\n",
    "normalized_images = []\n",
    "normalized_factor = []\n",
    "for image in tqdm(raw_data):\n",
    "    normalized_images.append(image / np.max(image))\n",
    "    normalized_factor.append(np.max(image))\n",
    "normalized_images = np.array(normalized_images).astype(np.float32)\n",
    "normalized_factor = np.array(normalized_factor).astype(np.float32)\n",
    "\n",
    "\n",
    "print(f'[Normalized Images Shape]: {normalized_images.shape}')"
   ]
  },
  {
   "cell_type": "code",
   "execution_count": 5,
   "metadata": {},
   "outputs": [],
   "source": [
    "# Estimate Labels Function\n",
    "x, y = (48, 48) # image shape\n",
    "\n",
    "x_range = np.arange(x)\n",
    "y_range = np.arange(y)\n",
    "X_coord, Y_coord = np.meshgrid(x_range, y_range)\n",
    "X_coord = X_coord.astype(np.float64)\n",
    "Y_coord = Y_coord.astype(np.float64)\n",
    "\n",
    "sigma_x_guess = sigma_y_guess = 10 # arbitrary\n",
    "theta_guess = 0 # arbitrary\n",
    "\n",
    "# https://en.wikipedia.org/wiki/Gaussian_function\n",
    "def gaussian_2d(independent_vars, x0, y0, sigma_x, sigma_y, theta):\n",
    "    x, y = independent_vars\n",
    "\n",
    "    a = np.power(np.cos(theta), 2) / (2 * np.power(sigma_x, 2)) + np.power(np.sin(theta), 2) / (2 * np.power(sigma_y, 2))\n",
    "    b = -1 * np.sin(theta) * np.cos(theta) / (2 * np.power(sigma_x, 2)) + np.sin(theta) * np.cos(theta) / (2 * np.power(sigma_y, 2))\n",
    "    c = np.power(np.sin(theta), 2) / (2 * np.power(sigma_x, 2)) + np.power(np.cos(theta), 2) / (2 * np.power(sigma_y, 2))\n",
    "    \n",
    "    return np.ravel(np.exp(-1 * (a * np.power(x - x0, 2) + 2 * b * (x - x0) * (y - y0) + c * np.power(y - y0, 2)))).astype(np.float64)\n",
    "\n",
    "def estimate_label(image):\n",
    "    image = np.squeeze(image).astype(np.float64)\n",
    "\n",
    "    x0_guess, y0_guess = np.unravel_index(np.argmax(image), (x, y))\n",
    "\n",
    "    popt, pcov = curve_fit(f=gaussian_2d, \n",
    "                    xdata=(X_coord, Y_coord),\n",
    "                    ydata=np.ravel(image).astype(np.float64),\n",
    "                    p0 = np.array((x0_guess, y0_guess, sigma_x_guess, sigma_y_guess, theta_guess)).astype(np.float64))\n",
    "\n",
    "    return popt"
   ]
  },
  {
   "cell_type": "code",
   "execution_count": 6,
   "metadata": {},
   "outputs": [
    {
     "name": "stderr",
     "output_type": "stream",
     "text": [
      "100%|██████████| 150985/150985 [00:38<00:00, 3962.66it/s]\n"
     ]
    },
    {
     "name": "stdout",
     "output_type": "stream",
     "text": [
      "[Estimated Labels Shape]: (150985, 5)\n"
     ]
    }
   ],
   "source": [
    "# Estimate Labels: Clipping may be necessary!\n",
    "p_count = 100 # CPU COUNT (100 is Large)\n",
    "save_file = NO\n",
    "RHEED_label_file = DATA_DIR + 'Estimated_Labels.npy'\n",
    "\n",
    "# Generate\n",
    "with Pool(p_count) as p:\n",
    "    estimated_labels = np.array(list(tqdm(p.imap(estimate_label, normalized_images),\n",
    "                                    total=len(normalized_images),\n",
    "                                    position=0))).astype(np.float32)\n",
    "np.save(RHEED_label_file, estimated_labels)\n",
    "print(f'[Estimated Labels Shape]: {estimated_labels.shape}')"
   ]
  }
 ],
 "metadata": {
  "kernelspec": {
   "display_name": "RHEED",
   "language": "python",
   "name": "python3"
  },
  "language_info": {
   "codemirror_mode": {
    "name": "ipython",
    "version": 3
   },
   "file_extension": ".py",
   "mimetype": "text/x-python",
   "name": "python",
   "nbconvert_exporter": "python",
   "pygments_lexer": "ipython3",
   "version": "3.10.13"
  }
 },
 "nbformat": 4,
 "nbformat_minor": 2
}
