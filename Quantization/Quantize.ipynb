{
 "cells": [
  {
   "cell_type": "code",
   "execution_count": 1,
   "metadata": {},
   "outputs": [],
   "source": [
    "# Environment Variables: \n",
    "\n",
    "YES = 1\n",
    "NO = 0"
   ]
  },
  {
   "cell_type": "code",
   "execution_count": null,
   "metadata": {},
   "outputs": [],
   "source": [
    "# Imports for Training\n",
    "\n",
    "import numpy as np\n",
    "import matplotlib.pyplot as plt\n",
    "import tensorflow as tf\n",
    "import qkeras\n",
    "from qkeras.estimate import print_qstats\n",
    "from qkeras.utils import model_quantize\n",
    "from qkeras.utils import quantized_model_dump\n",
    "\n",
    "%matplotlib inline\n",
    "print(tf.config.list_physical_devices('GPU'))"
   ]
  },
  {
   "cell_type": "code",
   "execution_count": null,
   "metadata": {},
   "outputs": [],
   "source": [
    "# Load Unquantized Model\n",
    "\n",
    "model = tf.keras.models.load_model(\"Gaussian_Model.keras\")"
   ]
  },
  {
   "cell_type": "code",
   "execution_count": null,
   "metadata": {},
   "outputs": [],
   "source": [
    "# Post Training Quantization\n",
    "save_qmodel = NO\n",
    "fractional = 4\n",
    "integer = 0\n",
    "total_bits = fractional + integer\n",
    "\n",
    "q_dict = {\n",
    "    \"QConv2D\": {\n",
    "        \"kernel_quantizer\": f\"quantized_bits({total_bits},{integer},1)\",\n",
    "        \"bias_quantizer\": \"quantized_bits({total_bits},{integer},1)\"\n",
    "    },\n",
    "    \"QDense\": {\n",
    "        \"kernel_quantizer\": \"quantized_bits({total_bits},{integer},1)\",\n",
    "        \"bias_quantizer\": \"quantized_bits({total_bits},{integer},1)\"\n",
    "    },\n",
    "    \"QBatchNormalization\": {},\n",
    "\n",
    "    \"QActivation\": \"quantized_relu({total_bits},{integer})\"\n",
    "}\n",
    "\n",
    "qmodel = model_quantize(model, q_dict, total_bits, transfer_weights=True)\n",
    "print_qstats(qmodel)\n",
    "\n",
    "if save_qmodel:\n",
    "    qmodel.save(f\"Quantized_Gaussian_Model({total_bits},{integer}).keras\")"
   ]
  }
 ],
 "metadata": {
  "kernelspec": {
   "display_name": "hls4ml-3.9",
   "language": "python",
   "name": "python3"
  },
  "language_info": {
   "codemirror_mode": {
    "name": "ipython",
    "version": 3
   },
   "file_extension": ".py",
   "mimetype": "text/x-python",
   "name": "python",
   "nbconvert_exporter": "python",
   "pygments_lexer": "ipython3",
   "version": "3.9.20"
  }
 },
 "nbformat": 4,
 "nbformat_minor": 2
}
