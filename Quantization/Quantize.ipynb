{
 "cells": [
  {
   "cell_type": "code",
   "execution_count": 1,
   "metadata": {},
   "outputs": [],
   "source": [
    "# Environment Variables: \n",
    "\n",
    "YES = 1\n",
    "NO = 0"
   ]
  },
  {
   "cell_type": "code",
   "execution_count": null,
   "metadata": {},
   "outputs": [],
   "source": [
    "# Imports for Training\n",
    "check_GPU = NO\n",
    "import numpy as np\n",
    "import matplotlib.pyplot as plt\n",
    "import tensorflow as tf\n",
    "import qkeras\n",
    "from qkeras.estimate import print_qstats\n",
    "from qkeras.utils import model_quantize\n",
    "from qkeras.utils import quantized_model_dump\n",
    "\n",
    "%matplotlib inline"
   ]
  },
  {
   "cell_type": "code",
   "execution_count": 13,
   "metadata": {},
   "outputs": [],
   "source": [
    "# Custom Loss Function (TENSORFLOW):\n",
    "def custom_weighted_mse_loss(I, J, n):\n",
    "    W = tf.pow(I, n)\n",
    "\n",
    "    squared_diffs = tf.pow(I - J, 2)\n",
    "\n",
    "    weighted_squared_diffs = W * squared_diffs\n",
    "\n",
    "    loss = tf.reduce_mean(weighted_squared_diffs)\n",
    "\n",
    "    return loss"
   ]
  },
  {
   "cell_type": "code",
   "execution_count": 14,
   "metadata": {},
   "outputs": [],
   "source": [
    "# Load Unquantized Model\n",
    "with tf.keras.utils.custom_object_scope({'custom_weighted_mse_loss': custom_weighted_mse_loss}):\n",
    "    model = tf.keras.models.load_model(\"Gaussian_Model.keras\")"
   ]
  },
  {
   "cell_type": "code",
   "execution_count": 15,
   "metadata": {},
   "outputs": [
    {
     "name": "stdout",
     "output_type": "stream",
     "text": [
      "WARNING:tensorflow:Compiled the loaded model, but the compiled metrics have yet to be built. `model.compile_metrics` will be empty until you train or evaluate the model.\n"
     ]
    },
    {
     "name": "stderr",
     "output_type": "stream",
     "text": [
      "WARNING:tensorflow:Compiled the loaded model, but the compiled metrics have yet to be built. `model.compile_metrics` will be empty until you train or evaluate the model.\n"
     ]
    }
   ],
   "source": [
    "# Post Training Quantization\n",
    "save_qmodel = YES\n",
    "view_qstats = NO\n",
    "fractional = 4\n",
    "integer = 0\n",
    "symmetric = YES\n",
    "total_bits = fractional + integer\n",
    "Gaussian_Model_dir = '/mnt/Research/Data/Models/'\n",
    "Quantized_Gaussian_Model_file = Gaussian_Model_dir + f'Gaussian_Model_{total_bits}_{integer}.keras'\n",
    "\n",
    "q_dict = {\n",
    "    \"QConv2D\": {\n",
    "        \"kernel_quantizer\": f\"quantized_bits({total_bits},{integer},{symmetric})\",\n",
    "        \"bias_quantizer\": f\"quantized_bits({total_bits},{integer},{symmetric})\"\n",
    "    },\n",
    "    \"QDense\": {\n",
    "        \"kernel_quantizer\": f\"quantized_bits({total_bits},{integer},{symmetric})\",\n",
    "        \"bias_quantizer\": f\"quantized_bits({total_bits},{integer},{symmetric})\"\n",
    "    },\n",
    "    \"QBatchNormalization\": {},\n",
    "\n",
    "    \"QActivation\": f\"quantized_relu({total_bits},{integer})\"\n",
    "}\n",
    "\n",
    "qmodel = model_quantize(model, q_dict, total_bits, transfer_weights=True)\n",
    "\n",
    "\n",
    "if save_qmodel:\n",
    "    qmodel.save(Quantized_Gaussian_Model_file)\n",
    "\n",
    "if view_qstats:\n",
    "    print_qstats(qmodel)"
   ]
  }
 ],
 "metadata": {
  "kernelspec": {
   "display_name": "hls4ml-3.9",
   "language": "python",
   "name": "python3"
  },
  "language_info": {
   "codemirror_mode": {
    "name": "ipython",
    "version": 3
   },
   "file_extension": ".py",
   "mimetype": "text/x-python",
   "name": "python",
   "nbconvert_exporter": "python",
   "pygments_lexer": "ipython3",
   "version": "3.9.20"
  }
 },
 "nbformat": 4,
 "nbformat_minor": 2
}
